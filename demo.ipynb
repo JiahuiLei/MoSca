{
 "cells": [
  {
   "cell_type": "markdown",
   "metadata": {},
   "source": [
    "# Example"
   ]
  },
  {
   "cell_type": "code",
   "execution_count": null,
   "metadata": {},
   "outputs": [],
   "source": [
    "%load_ext autoreload\n",
    "%autoreload 2\n",
    "\n",
    "%env GS_BACKEND=native_add3\n",
    "%env CUDA_VISIBLE_DEVICES=0\n",
    "\n",
    "from omegaconf import OmegaConf"
   ]
  },
  {
   "cell_type": "markdown",
   "metadata": {},
   "source": [
    "### [0] Load images"
   ]
  },
  {
   "cell_type": "code",
   "execution_count": null,
   "metadata": {},
   "outputs": [],
   "source": [
    "WS = \"./demo/duck\"\n",
    "PRE_CFG_FN = \"./profile/demo/demo_prep.yaml\"\n",
    "FIT_CFG_FN = \"./profile/demo/demo_fit.yaml\""
   ]
  },
  {
   "cell_type": "code",
   "execution_count": null,
   "metadata": {},
   "outputs": [],
   "source": [
    "from mosca_precompute import load_imgs_from_dir\n",
    "\n",
    "img_list, img_fns = load_imgs_from_dir(WS)\n",
    "pre_cfg = OmegaConf.load(PRE_CFG_FN)\n",
    "# pre_cfg.tap_chunk_size = 4096 # reduce this for smaller gpu"
   ]
  },
  {
   "cell_type": "markdown",
   "metadata": {},
   "source": [
    "### [1] Precompute Priors"
   ]
  },
  {
   "cell_type": "code",
   "execution_count": null,
   "metadata": {},
   "outputs": [],
   "source": [
    "from mosca_precompute import get_moca_processor, preprocess\n",
    "\n",
    "moca_processor = get_moca_processor(pre_cfg)"
   ]
  },
  {
   "cell_type": "code",
   "execution_count": null,
   "metadata": {},
   "outputs": [],
   "source": [
    "preprocess(\n",
    "    img_list=img_list,\n",
    "    img_fns=img_fns,\n",
    "    ws=WS,\n",
    "    moca_processor=moca_processor,\n",
    "    pre_cfg=pre_cfg,\n",
    ")"
   ]
  },
  {
   "cell_type": "markdown",
   "metadata": {},
   "source": [
    "### [2] Recon Stage\n"
   ]
  },
  {
   "cell_type": "code",
   "execution_count": null,
   "metadata": {},
   "outputs": [],
   "source": [
    "from mosca_reconstruct import setup_recon_ws\n",
    "\n",
    "fit_cfg = OmegaConf.load(FIT_CFG_FN)\n",
    "\n",
    "logdir = setup_recon_ws(WS, fit_cfg=fit_cfg)\n",
    "print(logdir)"
   ]
  },
  {
   "cell_type": "code",
   "execution_count": null,
   "metadata": {},
   "outputs": [],
   "source": [
    "from lite_moca_reconstruct import static_reconstruct\n",
    "\n",
    "static_reconstruct(WS, logdir, fit_cfg)"
   ]
  },
  {
   "cell_type": "code",
   "execution_count": null,
   "metadata": {},
   "outputs": [],
   "source": [
    "from mosca_reconstruct import photometric_warmup\n",
    "\n",
    "photometric_warmup(WS, logdir, fit_cfg) # this is optional, will auto skip by default."
   ]
  },
  {
   "cell_type": "code",
   "execution_count": null,
   "metadata": {},
   "outputs": [],
   "source": [
    "from mosca_reconstruct import scaffold_reconstruct\n",
    "\n",
    "scaffold_reconstruct(WS, logdir, fit_cfg)"
   ]
  },
  {
   "cell_type": "code",
   "execution_count": null,
   "metadata": {},
   "outputs": [],
   "source": [
    "from mosca_reconstruct import photometric_reconstruct\n",
    "\n",
    "photometric_reconstruct(WS, logdir, fit_cfg)"
   ]
  },
  {
   "cell_type": "markdown",
   "metadata": {},
   "source": [
    "### [3] viz and fps"
   ]
  },
  {
   "cell_type": "code",
   "execution_count": null,
   "metadata": {},
   "outputs": [],
   "source": [
    "from mosca_evaluate import test_fps\n",
    "\n",
    "test_fps(logdir)"
   ]
  },
  {
   "cell_type": "code",
   "execution_count": null,
   "metadata": {},
   "outputs": [],
   "source": [
    "from mosca_viz import viz_main\n",
    "import os.path as osp\n",
    "\n",
    "viz_main(osp.join(logdir, \"viz\"), logdir, FIT_CFG_FN, N=5, back_ratio_3d=1.5)"
   ]
  }
 ],
 "metadata": {
  "kernelspec": {
   "display_name": "mosca",
   "language": "python",
   "name": "python3"
  },
  "language_info": {
   "codemirror_mode": {
    "name": "ipython",
    "version": 3
   },
   "file_extension": ".py",
   "mimetype": "text/x-python",
   "name": "python",
   "nbconvert_exporter": "python",
   "pygments_lexer": "ipython3",
   "version": "3.10.15"
  }
 },
 "nbformat": 4,
 "nbformat_minor": 2
}
